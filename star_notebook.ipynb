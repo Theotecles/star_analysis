{
 "cells": [
  {
   "cell_type": "code",
   "execution_count": 2,
   "id": "756e5ff1",
   "metadata": {},
   "outputs": [],
   "source": [
    "# IMPORT PACKAGES\n",
    "import seaborn as sns\n",
    "from sklearn.neighbors import KNeighborsClassifier\n",
    "from sklearn.model_selection import train_test_split\n",
    "import metrics\n",
    "import matplotlib.pyplot as plt\n",
    "import pandas as pd\n",
    "import numpy as np\n",
    "\n",
    "# IMPORT DATA\n",
    "stardf = pd.read_csv(\"D:\\KaggleData\\Data\\stars.csv\")"
   ]
  },
  {
   "cell_type": "code",
   "execution_count": 3,
   "id": "1f15d13e",
   "metadata": {},
   "outputs": [
    {
     "name": "stdout",
     "output_type": "stream",
     "text": [
      "   Temperature    L     R    A_M Color Spectral_Class  Type\n",
      "0       3068.0  0.0  0.17  16.12   Red              M   0.0\n",
      "1       3042.0  0.0  0.15  16.60   Red              M   0.0\n",
      "2       2600.0  0.0  0.10  18.70   Red              M   0.0\n",
      "3       2800.0  0.0  0.16  16.65   Red              M   0.0\n",
      "4       1939.0  0.0  0.10  20.06   Red              M   0.0\n",
      "     Temperature         L       R    A_M  Color Spectral_Class  Type\n",
      "235      38940.0  374830.0  1356.0  -9.93   Blue              O   5.0\n",
      "236      30839.0  834042.0  1194.0 -10.63   Blue              O   5.0\n",
      "237       8829.0  537493.0  1423.0 -10.73  White              A   5.0\n",
      "238       9235.0  404940.0  1112.0 -11.23  White              A   5.0\n",
      "239      37882.0  294903.0  1783.0  -7.80   Blue              O   5.0\n"
     ]
    }
   ],
   "source": [
    "# LOOK AT FIRST 5 ROWS OF DATA AND LAST 5 ROWS OF DATA\n",
    "print(stardf.head())\n",
    "print(stardf.tail())"
   ]
  },
  {
   "cell_type": "code",
   "execution_count": 4,
   "id": "8a8ecc89",
   "metadata": {},
   "outputs": [
    {
     "name": "stdout",
     "output_type": "stream",
     "text": [
      "Temperature       float64\n",
      "L                 float64\n",
      "R                 float64\n",
      "A_M               float64\n",
      "Color              object\n",
      "Spectral_Class     object\n",
      "Type              float64\n",
      "dtype: object\n"
     ]
    }
   ],
   "source": [
    "# CHECK DATA TYPES\n",
    "print(stardf.dtypes)"
   ]
  },
  {
   "cell_type": "code",
   "execution_count": 5,
   "id": "59eed841",
   "metadata": {},
   "outputs": [
    {
     "name": "stdout",
     "output_type": "stream",
     "text": [
      "(240, 7)\n"
     ]
    }
   ],
   "source": [
    "# TOTAL ROWS AND COLUMNS\n",
    "print(stardf.shape)"
   ]
  },
  {
   "cell_type": "code",
   "execution_count": 6,
   "id": "920ea86a",
   "metadata": {},
   "outputs": [
    {
     "name": "stdout",
     "output_type": "stream",
     "text": [
      "Number of duplicate rows: (0, 7)\n",
      "Temperature       0\n",
      "L                 0\n",
      "R                 0\n",
      "A_M               0\n",
      "Color             0\n",
      "Spectral_Class    0\n",
      "Type              0\n",
      "dtype: int64\n"
     ]
    }
   ],
   "source": [
    "# CHECK FOR DUPLICATE ROWS\n",
    "duplicatedf = stardf[stardf.duplicated()]\n",
    "print(\"Number of duplicate rows:\", duplicatedf.shape)\n",
    "# NO DUPLICATES\n",
    "\n",
    "# CHECK FOR MISSING OR NULL VALUES\n",
    "print(stardf.isnull().sum())\n",
    "# NO MISSING VALUES"
   ]
  },
  {
   "cell_type": "code",
   "execution_count": 7,
   "id": "f78009d2",
   "metadata": {},
   "outputs": [
    {
     "name": "stdout",
     "output_type": "stream",
     "text": [
      "['Red' 'Blue White' 'White' 'Yellowish White' 'Blue white'\n",
      " 'Pale yellow orange' 'Blue' 'Blue-white' 'Whitish' 'yellow-white'\n",
      " 'Orange' 'White-Yellow' 'white' 'yellowish' 'Yellowish' 'Orange-Red'\n",
      " 'Blue-White']\n",
      "['M' 'B' 'A' 'F' 'O' 'K' 'G']\n"
     ]
    }
   ],
   "source": [
    "# CONVERT COLOR AND SPECTRAL CLASS TO NUMBERS\n",
    "print(stardf['Color'].unique())\n",
    "print(stardf['Spectral_Class'].unique())"
   ]
  },
  {
   "cell_type": "code",
   "execution_count": 8,
   "id": "807b5309",
   "metadata": {},
   "outputs": [],
   "source": [
    "color_mapping = {\n",
    "    'Red': 0,\n",
    "    'Blue White': 1,\n",
    "    'White': 2,\n",
    "    'Yellowish White': 3,\n",
    "    'Blue white': 1,\n",
    "    'Pale yellow orange': 4,\n",
    "    'Blue': 5,\n",
    "    'Blue-white': 1,\n",
    "    'Whitish': 2,\n",
    "    'yellow-white': 3,\n",
    "    'Orange': 6,\n",
    "    'White-Yellow': 3,\n",
    "    'white': 2,\n",
    "    'yellowish': 7,\n",
    "    'Yellowish': 7,\n",
    "    'Orange-Red': 8,\n",
    "    'Blue-White': 1,\n",
    "}\n",
    "\n",
    "stardf.Color = [color_mapping[item] for item in stardf.Color]\n",
    "\n",
    "class_mapping = {\n",
    "    'M': 0,\n",
    "    'B': 1,\n",
    "    'A': 2,\n",
    "    'F': 3,\n",
    "    'O': 4,\n",
    "    'K': 5,\n",
    "    'G': 6,\n",
    "}\n",
    "\n",
    "stardf.Spectral_Class = [class_mapping[item] for item in stardf.Spectral_Class]"
   ]
  },
  {
   "cell_type": "code",
   "execution_count": 9,
   "id": "fc03712f",
   "metadata": {},
   "outputs": [],
   "source": [
    "# TAKE OUT NON NUMERICAL DATA\n",
    "stardf1 = stardf.drop(['Color'], axis=1)\n",
    "stardf2 = stardf1.drop(['Spectral_Class'], axis=1)"
   ]
  },
  {
   "cell_type": "code",
   "execution_count": 10,
   "id": "837f09cd",
   "metadata": {},
   "outputs": [
    {
     "data": {
      "image/png": "[encoded data removed]",
      "text/plain": [
       "<Figure size 432x288 with 1 Axes>"
      ]
     },
     "metadata": {
      "needs_background": "light"
     },
     "output_type": "display_data"
    },
    {
     "data": {
      "image/png": "[encoded data removed]",
      "text/plain": [
       "<Figure size 432x288 with 1 Axes>"
      ]
     },
     "metadata": {
      "needs_background": "light"
     },
     "output_type": "display_data"
    },
    {
     "data": {
      "image/png": "[encoded data removed]",
      "text/plain": [
       "<Figure size 432x288 with 1 Axes>"
      ]
     },
     "metadata": {
      "needs_background": "light"
     },
     "output_type": "display_data"
    },
    {
     "data": {
      "image/png": "[encoded data removed]",
      "text/plain": [
       "<Figure size 432x288 with 1 Axes>"
      ]
     },
     "metadata": {
      "needs_background": "light"
     },
     "output_type": "display_data"
    },
    {
     "data": {
      "image/png": "[encoded data removed]",
      "text/plain": [
       "<Figure size 432x288 with 1 Axes>"
      ]
     },
     "metadata": {
      "needs_background": "light"
     },
     "output_type": "display_data"
    }
   ],
   "source": [
    "# CREATE A BOXPLOT FOR EACH COLUMN\n",
    "sns.boxplot(x=stardf2['Temperature'])\n",
    "plt.show()\n",
    "\n",
    "sns.boxplot(x=stardf2['L'])\n",
    "plt.show()\n",
    "\n",
    "sns.boxplot(x=stardf2['R'])\n",
    "plt.show()\n",
    "\n",
    "sns.boxplot(x=stardf2['A_M'])\n",
    "plt.show()\n",
    "\n",
    "sns.boxplot(x=stardf2['Type'])\n",
    "plt.show()"
   ]
  },
  {
   "cell_type": "code",
   "execution_count": 11,
   "id": "5275f1b9",
   "metadata": {},
   "outputs": [
    {
     "name": "stdout",
     "output_type": "stream",
     "text": [
      "15.0\n"
     ]
    }
   ],
   "source": [
    "# SET BIN ARGUMENT\n",
    "n_obs = len(stardf2)\n",
    "\n",
    "n_bins = round(np.sqrt(n_obs), 0)\n",
    "\n",
    "print(n_bins)"
   ]
  },
  {
   "cell_type": "code",
   "execution_count": 12,
   "id": "60a081b6",
   "metadata": {
    "scrolled": false
   },
   "outputs": [
    {
     "data": {
      "image/png": "[encoded data removed]",
      "text/plain": [
       "<Figure size 432x288 with 1 Axes>"
      ]
     },
     "metadata": {
      "needs_background": "light"
     },
     "output_type": "display_data"
    },
    {
     "data": {
      "image/png": "[encoded data removed]",
      "text/plain": [
       "<Figure size 432x288 with 1 Axes>"
      ]
     },
     "metadata": {
      "needs_background": "light"
     },
     "output_type": "display_data"
    },
    {
     "data": {
      "image/png": "[encoded data removed]",
      "text/plain": [
       "<Figure size 432x288 with 1 Axes>"
      ]
     },
     "metadata": {
      "needs_background": "light"
     },
     "output_type": "display_data"
    },
    {
     "data": {
      "image/png": "[encoded data removed]",
      "text/plain": [
       "<Figure size 432x288 with 1 Axes>"
      ]
     },
     "metadata": {
      "needs_background": "light"
     },
     "output_type": "display_data"
    },
    {
     "data": {
      "image/png": "[encoded data removed]",
      "text/plain": [
       "<Figure size 432x288 with 1 Axes>"
      ]
     },
     "metadata": {
      "needs_background": "light"
     },
     "output_type": "display_data"
    },
    {
     "data": {
      "image/png": "[encoded data removed]",
      "text/plain": [
       "<Figure size 432x288 with 1 Axes>"
      ]
     },
     "metadata": {
      "needs_background": "light"
     },
     "output_type": "display_data"
    },
    {
     "data": {
      "image/png": "[encoded data removed]",
      "text/plain": [
       "<Figure size 432x288 with 1 Axes>"
      ]
     },
     "metadata": {
      "needs_background": "light"
     },
     "output_type": "display_data"
    }
   ],
   "source": [
    "# CREATE HISTOGRAMS FOR EACH COLUMN\n",
    "plt.hist(stardf2['Temperature'], density=True, bins=15)\n",
    "plt.show()\n",
    "\n",
    "plt.hist(stardf2['L'], density=True, bins=15)\n",
    "plt.show()\n",
    "\n",
    "plt.hist(stardf2['R'], density=True, bins=15)\n",
    "plt.show()\n",
    "\n",
    "plt.hist(stardf2['A_M'], density=True, bins=15)\n",
    "plt.show()\n",
    "\n",
    "plt.hist(stardf2['Type'], density=True, bins=7)\n",
    "plt.show()\n",
    "\n",
    "plt.hist(stardf['Color'], density=True, bins=9)\n",
    "plt.show()\n",
    "\n",
    "plt.hist(stardf['Spectral_Class'], density=True, bins=6)\n",
    "plt.show()"
   ]
  },
  {
   "cell_type": "code",
   "execution_count": 13,
   "id": "dc0b0566",
   "metadata": {
    "scrolled": true
   },
   "outputs": [
    {
     "name": "stdout",
     "output_type": "stream",
     "text": [
      "             Temperature         L         R       A_M      Type\n",
      "Temperature     1.000000  0.393404  0.064216 -0.420267  0.411129\n",
      "L               0.393404  1.000000  0.526516 -0.692623  0.676845\n",
      "R               0.064216  0.526516  1.000000 -0.608724  0.660975\n",
      "A_M            -0.420267 -0.692623 -0.608724  1.000000 -0.955273\n",
      "Type            0.411129  0.676845  0.660975 -0.955273  1.000000\n"
     ]
    }
   ],
   "source": [
    "# CREATE A CORRELATION MATRIX\n",
    "c = stardf2.corr()\n",
    "print(c)"
   ]
  },
  {
   "cell_type": "code",
   "execution_count": 14,
   "id": "251e26c5",
   "metadata": {},
   "outputs": [
    {
     "data": {
      "image/png": "[encoded data removed]",
      "text/plain": [
       "<Figure size 432x288 with 1 Axes>"
      ]
     },
     "metadata": {
      "needs_background": "light"
     },
     "output_type": "display_data"
    },
    {
     "data": {
      "image/png": "[encoded data removed]",
      "text/plain": [
       "<Figure size 432x288 with 1 Axes>"
      ]
     },
     "metadata": {
      "needs_background": "light"
     },
     "output_type": "display_data"
    },
    {
     "data": {
      "image/png": "[encoded data removed]",
      "text/plain": [
       "<Figure size 432x288 with 1 Axes>"
      ]
     },
     "metadata": {
      "needs_background": "light"
     },
     "output_type": "display_data"
    },
    {
     "data": {
      "image/png": "[encoded data removed]",
      "text/plain": [
       "<Figure size 432x288 with 1 Axes>"
      ]
     },
     "metadata": {
      "needs_background": "light"
     },
     "output_type": "display_data"
    }
   ],
   "source": [
    "# CREATE SCATTERPLOTS FOR EACH VARIABLE AS WELL\n",
    "plt.scatter(stardf2['Temperature'], stardf2['Type'])\n",
    "plt.show()\n",
    "\n",
    "plt.scatter(stardf2['L'], stardf2['Type'])\n",
    "plt.show()\n",
    "\n",
    "plt.scatter(stardf2['R'], stardf2['Type'])\n",
    "plt.show()\n",
    "\n",
    "plt.scatter(stardf2['A_M'], stardf2['Type'])\n",
    "plt.show()"
   ]
  },
  {
   "cell_type": "code",
   "execution_count": 15,
   "id": "bac3d527",
   "metadata": {},
   "outputs": [
    {
     "name": "stdout",
     "output_type": "stream",
     "text": [
      "        Temperature              L            R         A_M        Type\n",
      "count    240.000000     240.000000   240.000000  240.000000  240.000000\n",
      "mean   10497.462500  107188.361375   237.157958    4.382375    2.500000\n",
      "std     9552.425037  179432.245096   517.155683   10.532580    1.711394\n",
      "min     1939.000000       0.000000     0.010000  -11.920000    0.000000\n",
      "25%     3344.250000       0.000000     0.100000   -6.232500    1.000000\n",
      "50%     5776.000000       0.075000     0.765000    8.315000    2.500000\n",
      "75%    15055.500000  198050.000000    42.750000   13.697500    4.000000\n",
      "max    40000.000000  849420.000000  1948.500000   20.060000    5.000000\n"
     ]
    }
   ],
   "source": [
    "# FIND SUMMARY STATISTICS\n",
    "print(stardf2.describe())"
   ]
  },
  {
   "cell_type": "code",
   "execution_count": 16,
   "id": "d7094bbf",
   "metadata": {},
   "outputs": [],
   "source": [
    "# SPLIT DATA INTO TRAINING AND TEST SPLITS\n",
    "y = stardf['Type']\n",
    "X = stardf.drop('Type', axis=1)\n",
    "X_train, X_test, y_train, y_test = train_test_split(X, y, test_size=0.25, random_state=42)"
   ]
  },
  {
   "cell_type": "code",
   "execution_count": 17,
   "id": "5657c90f",
   "metadata": {},
   "outputs": [
    {
     "name": "stdout",
     "output_type": "stream",
     "text": [
      "[0.7166666666666667, 0.65, 0.7166666666666667, 0.6333333333333333, 0.65, 0.6, 0.5833333333333334, 0.5833333333333334, 0.5666666666666667, 0.5666666666666667, 0.5666666666666667, 0.5333333333333333, 0.55, 0.55, 0.5666666666666667, 0.5333333333333333, 0.5666666666666667, 0.5666666666666667, 0.5666666666666667, 0.55, 0.5666666666666667, 0.55, 0.5833333333333334, 0.5833333333333334, 0.5666666666666667]\n"
     ]
    },
    {
     "data": {
      "image/png": "[encoded data removed]",
      "text/plain": [
       "<Figure size 432x288 with 1 Axes>"
      ]
     },
     "metadata": {
      "needs_background": "light"
     },
     "output_type": "display_data"
    }
   ],
   "source": [
    "# DETERMINE OPTIMAL K\n",
    "n_range = range(1,26)\n",
    "scores = {}\n",
    "scores_list = []\n",
    "for n in n_range:\n",
    "    k = KNeighborsClassifier(n_neighbors=n)\n",
    "    k.fit(X_train, y_train)\n",
    "    predictions = k.predict(X_test)\n",
    "    scores[n] = sum(y_test == predictions) / len(y_test)\n",
    "    scores_list.append(sum(y_test == predictions) / len(y_test))\n",
    "\n",
    "print(scores_list)\n",
    "plt.plot(n_range, scores_list)\n",
    "plt.show()"
   ]
  },
  {
   "cell_type": "code",
   "execution_count": 18,
   "id": "b7ff9f5b",
   "metadata": {},
   "outputs": [
    {
     "name": "stdout",
     "output_type": "stream",
     "text": [
      "1.0\n",
      "0.7166666666666667\n"
     ]
    }
   ],
   "source": [
    "#CREATE THE KNN MODEL\n",
    "k = KNeighborsClassifier(n_neighbors=1)\n",
    "k.fit(X_train, y_train)\n",
    "\n",
    "# PREDICT\n",
    "model_predictions = k.predict(X_train)\n",
    "print(sum(y_train == model_predictions) / len(y_train))\n",
    "\n",
    "predictions = k.predict(X_test)\n",
    "print(sum(y_test == predictions) / len(y_test))"
   ]
  },
  {
   "cell_type": "code",
   "execution_count": null,
   "id": "427eb042",
   "metadata": {},
   "outputs": [],
   "source": []
  }
 ],
 "metadata": {
  "kernelspec": {
   "display_name": "Python 3 (ipykernel)",
   "language": "python",
   "name": "python3"
  },
  "language_info": {
   "codemirror_mode": {
    "name": "ipython",
    "version": 3
   },
   "file_extension": ".py",
   "mimetype": "text/x-python",
   "name": "python",
   "nbconvert_exporter": "python",
   "pygments_lexer": "ipython3",
   "version": "3.9.6"
  }
 },
 "nbformat": 4,
 "nbformat_minor": 5
}
